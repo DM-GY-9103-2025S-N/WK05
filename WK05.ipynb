{
 "cells": [
  {
   "cell_type": "markdown",
   "metadata": {},
   "source": [
    "# WK05: Transformer Pipelines"
   ]
  },
  {
   "cell_type": "markdown",
   "metadata": {},
   "source": [
    "## Setup\n",
    "\n",
    "This code imports the functions we need to run our inference pipelines"
   ]
  },
  {
   "cell_type": "code",
   "execution_count": null,
   "metadata": {},
   "outputs": [],
   "source": [
    "from PIL import Image\n",
    "from transformers import pipeline"
   ]
  },
  {
   "cell_type": "markdown",
   "metadata": {},
   "source": [
    "## Text Completion\n",
    "\n",
    "Let's use the [GPT2 model](https://huggingface.co/openai-community/gpt2) to create some text completions.\n",
    "\n",
    "We use a pipeline object to run inference:"
   ]
  },
  {
   "cell_type": "code",
   "execution_count": null,
   "metadata": {},
   "outputs": [],
   "source": [
    "generator = pipeline(\n",
    "  \"text-generation\",\n",
    "  model=\"openai-community/gpt2\"\n",
    ")"
   ]
  },
  {
   "cell_type": "markdown",
   "metadata": {},
   "source": [
    "Let's define a starter sentence to run our model on:"
   ]
  },
  {
   "cell_type": "code",
   "execution_count": null,
   "metadata": {},
   "outputs": [],
   "source": [
    "TOBE = \"To be or not to be, that is the\""
   ]
  },
  {
   "cell_type": "markdown",
   "metadata": {},
   "source": [
    "And run the model:"
   ]
  },
  {
   "cell_type": "code",
   "execution_count": null,
   "metadata": {},
   "outputs": [],
   "source": [
    "result = generator(TOBE, max_length=64, pad_token_id=0)\n",
    "print(result)"
   ]
  },
  {
   "cell_type": "markdown",
   "metadata": {},
   "source": [
    "#### Changing [model](https://huggingface.co/Xenova/llama2.c-stories110M)\n",
    "\n",
    "is as easy as:"
   ]
  },
  {
   "cell_type": "code",
   "execution_count": null,
   "metadata": {},
   "outputs": [],
   "source": [
    "generator = pipeline(\n",
    "  \"text-generation\",\n",
    "  model=\"Xenova/llama2.c-stories110M\"\n",
    ")"
   ]
  },
  {
   "cell_type": "markdown",
   "metadata": {},
   "source": [
    "Rerun with new model:"
   ]
  },
  {
   "cell_type": "code",
   "execution_count": null,
   "metadata": {},
   "outputs": [],
   "source": [
    "result = generator(TOBE, max_length=64, pad_token_id=0)\n",
    "print(result)"
   ]
  },
  {
   "cell_type": "markdown",
   "metadata": {},
   "source": [
    "### One last [model](https://huggingface.co/facebook/opt-125m):"
   ]
  },
  {
   "cell_type": "code",
   "execution_count": null,
   "metadata": {},
   "outputs": [],
   "source": [
    "generator = pipeline(\n",
    "  \"text-generation\",\n",
    "  # model=\"facebook/opt-125m\"\n",
    "  model=\"facebook/opt-1.3b\"\n",
    ")\n",
    "\n",
    "result = generator(TOBE, max_length=64, pad_token_id=0)\n",
    "print(result)"
   ]
  },
  {
   "cell_type": "markdown",
   "metadata": {},
   "source": [
    "## Fill-Mask [model](https://huggingface.co/FacebookAI/xlm-roberta-large)\n",
    "\n",
    "can be used to get the probabilities/scores of different possible words to complete a sentence:"
   ]
  },
  {
   "cell_type": "code",
   "execution_count": null,
   "metadata": {},
   "outputs": [],
   "source": [
    "filler = pipeline(\n",
    "  \"fill-mask\",\n",
    "  model=\"FacebookAI/xlm-roberta-large\"\n",
    ")"
   ]
  },
  {
   "cell_type": "code",
   "execution_count": null,
   "metadata": {},
   "outputs": [],
   "source": [
    "input = f\"{TOBE} <mask>\"\n",
    "result = filler(input)"
   ]
  },
  {
   "cell_type": "code",
   "execution_count": null,
   "metadata": {},
   "outputs": [],
   "source": [
    "print(TOBE)\n",
    "\n",
    "for r in result:\n",
    "  word = r[\"token_str\"]\n",
    "  score = round(r[\"score\"], 4)\n",
    "  print(len(TOBE) * \" \", f\"{word}: {score}\")"
   ]
  },
  {
   "cell_type": "markdown",
   "metadata": {},
   "source": [
    "## Text Sentiment [Analysis](https://huggingface.co/joeddav/distilbert-base-uncased-go-emotions-student)\n",
    "\n",
    "Classify the _tone_ of a sentence."
   ]
  },
  {
   "cell_type": "code",
   "execution_count": null,
   "metadata": {},
   "outputs": [],
   "source": [
    "analyzer = pipeline(\n",
    "  \"sentiment-analysis\",\n",
    "  model=\"joeddav/distilbert-base-uncased-go-emotions-student\"\n",
    ")"
   ]
  },
  {
   "cell_type": "markdown",
   "metadata": {},
   "source": [
    "Run on one example:"
   ]
  },
  {
   "cell_type": "code",
   "execution_count": null,
   "metadata": {},
   "outputs": [],
   "source": [
    "text = \"A wave of elation washed over me, like sunlight breaking through the clouds\"\n",
    "result = analyzer(text)\n",
    "print(result)"
   ]
  },
  {
   "cell_type": "markdown",
   "metadata": {},
   "source": [
    "Run on example phrases"
   ]
  },
  {
   "cell_type": "code",
   "execution_count": null,
   "metadata": {},
   "outputs": [],
   "source": [
    "EXAMPLE_TEXTS = [\n",
    "  \"What a wonderful day\",\n",
    "  \"OMG my head hurts\",\n",
    "  \"What am I doing here?\"\n",
    "]\n",
    "\n",
    "for t in EXAMPLE_TEXTS:\n",
    "  result = analyzer(t)\n",
    "  print(t, \"->\", result[0][\"label\"])"
   ]
  },
  {
   "cell_type": "markdown",
   "metadata": {},
   "source": [
    "We can also pass an extra parameter to our pipeline if we want to get scores for all possible sentiments:"
   ]
  },
  {
   "cell_type": "code",
   "execution_count": null,
   "metadata": {},
   "outputs": [],
   "source": [
    "full_analyzer = pipeline(\n",
    "  \"sentiment-analysis\",\n",
    "  model=\"joeddav/distilbert-base-uncased-go-emotions-student\",\n",
    "  return_all_scores=True\n",
    ")\n",
    "\n",
    "print(text)\n",
    "result = full_analyzer(text)\n",
    "display(result)"
   ]
  },
  {
   "cell_type": "markdown",
   "metadata": {},
   "source": [
    "### Other models\n",
    "\n",
    "They each have a slightly different set of _emotions_ they were trained to detect.\n",
    "\n",
    "- [GoEmotion BERT](https://huggingface.co/joeddav/distilbert-base-uncased-go-emotions-student) (27 emotions)\n",
    "- [Roberta](https://huggingface.co/cardiffnlp/twitter-roberta-base-emotion-multilabel-latest) (11 emotions)\n",
    "- [Distil BERT](https://huggingface.co/bhadresh-savani/distilbert-base-uncased-emotion) (6 emotions)"
   ]
  },
  {
   "cell_type": "code",
   "execution_count": null,
   "metadata": {},
   "outputs": [],
   "source": [
    "full_analyzer = pipeline(\n",
    "  \"sentiment-analysis\",\n",
    "  model=\"cardiffnlp/twitter-roberta-base-emotion-multilabel-latest\",\n",
    "  return_all_scores=True\n",
    ")"
   ]
  },
  {
   "cell_type": "code",
   "execution_count": null,
   "metadata": {},
   "outputs": [],
   "source": [
    "print(text)\n",
    "result = full_analyzer(text)\n",
    "display(result)"
   ]
  },
  {
   "cell_type": "code",
   "execution_count": null,
   "metadata": {},
   "outputs": [],
   "source": [
    "full_analyzer = pipeline(\n",
    "  \"sentiment-analysis\",\n",
    "  model=\"bhadresh-savani/distilbert-base-uncased-emotion\",\n",
    "  return_all_scores=True\n",
    ")"
   ]
  },
  {
   "cell_type": "code",
   "execution_count": null,
   "metadata": {},
   "outputs": [],
   "source": [
    "print(text)\n",
    "result = full_analyzer(text)\n",
    "display(result)"
   ]
  },
  {
   "cell_type": "markdown",
   "metadata": {},
   "source": [
    "## Image [Description](https://huggingface.co/Salesforce/blip-image-captioning-base)\n",
    "\n",
    "Describe what's in an image."
   ]
  },
  {
   "cell_type": "code",
   "execution_count": null,
   "metadata": {},
   "outputs": [],
   "source": [
    "img_captioner = pipeline(\n",
    "  \"image-to-text\",\n",
    "  model=\"Salesforce/blip-image-captioning-base\"\n",
    ")"
   ]
  },
  {
   "cell_type": "markdown",
   "metadata": {},
   "source": [
    "A test image:"
   ]
  },
  {
   "cell_type": "code",
   "execution_count": null,
   "metadata": {},
   "outputs": [],
   "source": [
    "test_image = Image.open(\"./imgs/GDTM.jpg\").convert(\"RGB\")\n",
    "display(test_image)"
   ]
  },
  {
   "cell_type": "markdown",
   "metadata": {},
   "source": [
    "Run inference:"
   ]
  },
  {
   "cell_type": "code",
   "execution_count": null,
   "metadata": {},
   "outputs": [],
   "source": [
    "result = img_captioner(test_image)\n",
    "print(result[0][\"generated_text\"])"
   ]
  },
  {
   "cell_type": "markdown",
   "metadata": {},
   "source": [
    "### Other image description models:\n",
    "\n",
    "- [`VIT`](https://huggingface.co/nlpconnect/vit-gpt2-image-captioning)\n",
    "- [`LLAVA`](https://huggingface.co/llava-hf/llava-interleave-qwen-0.5b-hf)"
   ]
  },
  {
   "cell_type": "code",
   "execution_count": null,
   "metadata": {},
   "outputs": [],
   "source": [
    "vit_captioner = pipeline(\n",
    "  \"image-to-text\",\n",
    "  model=\"nlpconnect/vit-gpt2-image-captioning\"\n",
    ")"
   ]
  },
  {
   "cell_type": "code",
   "execution_count": null,
   "metadata": {},
   "outputs": [],
   "source": [
    "result = vit_captioner(test_image)\n",
    "print(result[0][\"generated_text\"])"
   ]
  },
  {
   "cell_type": "code",
   "execution_count": null,
   "metadata": {},
   "outputs": [],
   "source": [
    "llava_captioner = pipeline(\n",
    "  \"image-text-to-text\",\n",
    "  model=\"llava-hf/llava-interleave-qwen-0.5b-hf\"\n",
    ")"
   ]
  },
  {
   "cell_type": "code",
   "execution_count": null,
   "metadata": {},
   "outputs": [],
   "source": [
    "prompt = [{\n",
    "  \"role\": \"user\",\n",
    "  \"content\": [\n",
    "    {\"type\": \"image\", \"image\": test_image},\n",
    "    {\"type\": \"text\", \"text\": \"Describe the image\"},\n",
    "  ],\n",
    "}]"
   ]
  },
  {
   "cell_type": "code",
   "execution_count": null,
   "metadata": {},
   "outputs": [],
   "source": [
    "result = llava_captioner(text=prompt, max_new_tokens=32, return_full_text=False)\n",
    "print(result[0][\"generated_text\"])"
   ]
  },
  {
   "cell_type": "markdown",
   "metadata": {},
   "source": [
    "## Depth [Prediction](https://huggingface.co/depth-anything/Depth-Anything-V2-Base-hf)"
   ]
  },
  {
   "cell_type": "code",
   "execution_count": null,
   "metadata": {},
   "outputs": [],
   "source": [
    "depth_estimator = pipeline(task=\"depth-estimation\", model=\"depth-anything/Depth-Anything-V2-Base-hf\")"
   ]
  },
  {
   "cell_type": "code",
   "execution_count": null,
   "metadata": {},
   "outputs": [],
   "source": [
    "image = Image.open(\"./imgs/flowers.jpg\")\n",
    "result = depth_estimator(image)\n",
    "display(result[\"depth\"])"
   ]
  },
  {
   "cell_type": "markdown",
   "metadata": {},
   "source": [
    "## Object [Detection](https://huggingface.co/facebook/detr-resnet-101)\n",
    "\n",
    "Some models don't work with the pipeline inference object, but the Transformers library still has some consistent-ish interfaces for running these models."
   ]
  },
  {
   "cell_type": "code",
   "execution_count": null,
   "metadata": {},
   "outputs": [],
   "source": [
    "from PIL import Image\n",
    "from transformers import DetrImageProcessor, DetrForObjectDetection\n",
    "\n",
    "from WK05_utils import DetrPostProcessor"
   ]
  },
  {
   "cell_type": "code",
   "execution_count": null,
   "metadata": {},
   "outputs": [],
   "source": [
    "OBJ_MODEL = \"facebook/detr-resnet-101\"\n",
    "detr_processor = DetrImageProcessor.from_pretrained(OBJ_MODEL, revision=\"no_timm\")\n",
    "detr_model = DetrForObjectDetection.from_pretrained(OBJ_MODEL, revision=\"no_timm\")"
   ]
  },
  {
   "cell_type": "code",
   "execution_count": null,
   "metadata": {},
   "outputs": [],
   "source": [
    "image = Image.open(\"./imgs/people.jpg\")\n",
    "detr_inputs = detr_processor(images=image, return_tensors=\"pt\")\n",
    "\n",
    "detr_output = detr_model(**detr_inputs)"
   ]
  },
  {
   "cell_type": "code",
   "execution_count": null,
   "metadata": {},
   "outputs": [],
   "source": [
    "# draw bounding boxes on image\n",
    "detr_image = DetrPostProcessor.process_output(detr_output, image, detr_model.config.id2label, 0.97)\n",
    "display(detr_image)"
   ]
  },
  {
   "cell_type": "markdown",
   "metadata": {},
   "source": [
    "## Image [Segmentation](https://huggingface.co/nvidia/segformer-b1-finetuned-ade-512-512)\n",
    "\n",
    "Not only detects where objects are, but gives a mask of all pixels that belong to the objects detected."
   ]
  },
  {
   "cell_type": "code",
   "execution_count": null,
   "metadata": {},
   "outputs": [],
   "source": [
    "from PIL import Image\n",
    "from transformers import SegformerFeatureExtractor, SegformerForSemanticSegmentation\n",
    "\n",
    "from WK05_utils import SegformerPostProcessor"
   ]
  },
  {
   "cell_type": "code",
   "execution_count": null,
   "metadata": {},
   "outputs": [],
   "source": [
    "SEG_MODEL = \"nvidia/segformer-b1-finetuned-ade-512-512\"\n",
    "seg_processor = SegformerFeatureExtractor.from_pretrained(SEG_MODEL)\n",
    "seg_model = SegformerForSemanticSegmentation.from_pretrained(SEG_MODEL)"
   ]
  },
  {
   "cell_type": "code",
   "execution_count": null,
   "metadata": {},
   "outputs": [],
   "source": [
    "image = Image.open(\"./imgs/street.jpg\")\n",
    "seg_inputs = seg_processor(images=image, return_tensors=\"pt\")\n",
    "\n",
    "seg_output = seg_model(**seg_inputs)\n",
    "print(seg_output)"
   ]
  },
  {
   "cell_type": "code",
   "execution_count": null,
   "metadata": {},
   "outputs": [],
   "source": [
    "segments_image = SegformerPostProcessor.process_output(seg_output, image)\n",
    "blended_image = Image.blend(image, segments_image, alpha=0.5)\n",
    "\n",
    "display(segments_image)\n",
    "display(blended_image)"
   ]
  },
  {
   "cell_type": "markdown",
   "metadata": {},
   "source": [
    "## Multi-Modal Image [Comprehension](https://huggingface.co/openai/clip-vit-large-patch14)\n",
    "\n",
    "Zero-Shot Classification.\n",
    "\n",
    "Detects presence of objects that weren't part of the training data."
   ]
  },
  {
   "cell_type": "code",
   "execution_count": null,
   "metadata": {},
   "outputs": [],
   "source": [
    "from PIL import Image\n",
    "from transformers import CLIPProcessor, CLIPModel"
   ]
  },
  {
   "cell_type": "code",
   "execution_count": null,
   "metadata": {},
   "outputs": [],
   "source": [
    "CLIP_MODEL = \"openai/clip-vit-large-patch14\"\n",
    "clip_processor = CLIPProcessor.from_pretrained(CLIP_MODEL)\n",
    "clip_model = CLIPModel.from_pretrained(CLIP_MODEL)"
   ]
  },
  {
   "cell_type": "code",
   "execution_count": null,
   "metadata": {},
   "outputs": [],
   "source": [
    "LABELS = [\n",
    "  \"cat\",\n",
    "  \"dog\",\n",
    "  \"bird\",\n",
    "  \"fish\",\n",
    "  \"aquatic mammal\",\n",
    "  \"erinaceinae\",\n",
    "  \"vegetation\"\n",
    "]"
   ]
  },
  {
   "cell_type": "code",
   "execution_count": null,
   "metadata": {},
   "outputs": [],
   "source": [
    "image = Image.open(\"./imgs/arara.jpg\")\n",
    "clip_inputs = clip_processor(text=LABELS, images=image, return_tensors=\"pt\", padding=True)\n",
    "\n",
    "clip_output = clip_model(**clip_inputs)"
   ]
  },
  {
   "cell_type": "code",
   "execution_count": null,
   "metadata": {},
   "outputs": [],
   "source": [
    "label_idx = clip_output.logits_per_image.argmax(dim=1)\n",
    "LABELS[label_idx]"
   ]
  }
 ],
 "metadata": {
  "kernelspec": {
   "display_name": "gradio",
   "language": "python",
   "name": "python3"
  },
  "language_info": {
   "codemirror_mode": {
    "name": "ipython",
    "version": 3
   },
   "file_extension": ".py",
   "mimetype": "text/x-python",
   "name": "python",
   "nbconvert_exporter": "python",
   "pygments_lexer": "ipython3",
   "version": "3.9.0"
  }
 },
 "nbformat": 4,
 "nbformat_minor": 2
}
